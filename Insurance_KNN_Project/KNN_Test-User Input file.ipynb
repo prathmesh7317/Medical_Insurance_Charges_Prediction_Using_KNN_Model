{
 "cells": [
  {
   "cell_type": "markdown",
   "id": "27b4fe6b-4ae9-4815-a1ca-6cc5e8e086bd",
   "metadata": {},
   "source": [
    "# **KNN User Input Test File**"
   ]
  },
  {
   "cell_type": "code",
   "execution_count": null,
   "id": "47187027-3b22-4a18-8e08-53e0fda8f90d",
   "metadata": {},
   "outputs": [],
   "source": []
  },
  {
   "cell_type": "code",
   "execution_count": 13,
   "id": "f76a157d-fbe2-4b56-8ca3-4cbbf8595bce",
   "metadata": {},
   "outputs": [],
   "source": [
    "import pickle\n",
    "import json\n",
    "import numpy as np\n",
    "import warnings\n",
    "warnings.filterwarnings('ignore')"
   ]
  },
  {
   "cell_type": "code",
   "execution_count": 2,
   "id": "07a878b5-c37d-4064-a9cc-7a3d3cd036dc",
   "metadata": {},
   "outputs": [],
   "source": [
    "with open('KNN_Model_Insurance.pkl','rb')as file:\n",
    "    knn_pkl = pickle.load(file)"
   ]
  },
  {
   "cell_type": "code",
   "execution_count": 3,
   "id": "0cb0d505-f007-446d-89a0-4278ab5e70e1",
   "metadata": {},
   "outputs": [],
   "source": [
    "with open('knn_encode_json.json','r')as file:\n",
    "    knn_json = json.load(file)"
   ]
  },
  {
   "cell_type": "code",
   "execution_count": 6,
   "id": "7d17f26a-ae94-45b1-968d-a2d951f8cb37",
   "metadata": {},
   "outputs": [
    {
     "name": "stdout",
     "output_type": "stream",
     "text": [
      "{'smoker': {'yes': 1, 'no': 0}, 'columns': ['children', 'smoker', 'region_northeast', 'region_northwest', 'region_southeast', 'region_southwest', 'age_buckets', 'risk', 'weight']}\n"
     ]
    }
   ],
   "source": [
    "print(knn_json)"
   ]
  },
  {
   "cell_type": "code",
   "execution_count": 4,
   "id": "f133994e-d568-46be-b401-20c782b31860",
   "metadata": {},
   "outputs": [],
   "source": [
    "with open('Std_Scaler.pkl','rb')as file:\n",
    "    knn_std_scaler = pickle.load(file)"
   ]
  },
  {
   "cell_type": "code",
   "execution_count": 14,
   "id": "52696998-6e7e-4239-adfd-3ebda5429d6c",
   "metadata": {},
   "outputs": [
    {
     "name": "stdin",
     "output_type": "stream",
     "text": [
      "Enter your age: 40\n",
      "Enter your BMI: 19\n",
      "How many childrens do you have?: 2\n",
      "Are you smoker? [yes/no]: no\n",
      "Enter your region: southEast\n"
     ]
    },
    {
     "data": {
      "text/plain": [
       "'Medical Insurance Charges are 5521.81'"
      ]
     },
     "execution_count": 14,
     "metadata": {},
     "output_type": "execute_result"
    }
   ],
   "source": [
    "def predict_charges(*args):\n",
    "    age = int(input('Enter your age:'))\n",
    "    bmi = int(input(\"Enter your BMI:\"))\n",
    "    children = int(input('How many childrens do you have?:'))\n",
    "    smoker = input('Are you smoker? [yes/no]:').strip().lower()\n",
    "    region = input(\"Enter your region:\").strip().lower()\n",
    "\n",
    "    ## Create array\n",
    "    array = np.zeros(len(knn_json['columns']))\n",
    "    array[0] = children\n",
    "    array[1] = knn_json['smoker'][smoker]\n",
    "    region_1 = \"region_\" + region\n",
    "    region_Index = knn_json['columns'].index(region_1)\n",
    "    array[region_Index] = 1\n",
    "    array[6] = 0 if age<18 else 1 if age <30 else 2 if age<45 else 3 if age<60 else 4\n",
    "    array[7] = 1 if age >60 else 0\n",
    "    array[8] = 1 if bmi >25 else 0\n",
    "    std_array2 = knn_std_scaler.transform([array]) # 2D array pass to create dataframe\n",
    "    predict_charges_1 = knn_pkl.predict(std_array2)[0]\n",
    "    return f\"Medical Insurance Charges are {np.around(predict_charges_1,2)}\"\n",
    "predict_charges()"
   ]
  },
  {
   "cell_type": "code",
   "execution_count": null,
   "id": "d902d2ca-675a-4b35-9c8a-202698735a2f",
   "metadata": {},
   "outputs": [],
   "source": []
  }
 ],
 "metadata": {
  "kernelspec": {
   "display_name": "Python 3 (ipykernel)",
   "language": "python",
   "name": "python3"
  },
  "language_info": {
   "codemirror_mode": {
    "name": "ipython",
    "version": 3
   },
   "file_extension": ".py",
   "mimetype": "text/x-python",
   "name": "python",
   "nbconvert_exporter": "python",
   "pygments_lexer": "ipython3",
   "version": "3.12.5"
  }
 },
 "nbformat": 4,
 "nbformat_minor": 5
}
